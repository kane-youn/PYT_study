{
 "cells": [
  {
   "cell_type": "code",
   "execution_count": null,
   "id": "c9f9af19",
   "metadata": {},
   "outputs": [],
   "source": [
    "import pandas as pd\n",
    "import numpy as np\n",
    "from sklearn.preprocessing import StandardScaler\n",
    "from sklearn import decomposition\n",
    "import matplotlib.pyplot as plt\n",
    "import seaborn as sns\n",
    "\n",
    "filename = 'diet_data.csv'\n",
    "df = pd.read_csv(filename)\n",
    "\n",
    "df.head()\n",
    "\n"
   ]
  },
  {
   "cell_type": "code",
   "execution_count": null,
   "id": "0801b5bf",
   "metadata": {},
   "outputs": [],
   "source": [
    "X = df[['calory','breakfast','lunch','dinner','exercise']]\n",
    "X.head()\n",
    "\n",
    "Y = df[['body_shape']]\n",
    "Y.head()\n",
    "\n"
   ]
  },
  {
   "cell_type": "code",
   "execution_count": null,
   "id": "1b2a45d3",
   "metadata": {},
   "outputs": [],
   "source": [
    "X_std = StandardScaler().fit_transform(X)\n",
    "X_std \n"
   ]
  },
  {
   "cell_type": "code",
   "execution_count": null,
   "id": "d5921784",
   "metadata": {},
   "outputs": [],
   "source": [
    "pca = decomposition.PCA(n_components=1)\n",
    "sklearn_pca_x = pca.fit_transform(X_std)\n",
    "sklearn_pca_x\n"
   ]
  },
  {
   "cell_type": "code",
   "execution_count": null,
   "id": "b361a2d0",
   "metadata": {},
   "outputs": [],
   "source": [
    "sklearn_result = pd.DataFrame(sklearn_pca_x, columns=['PC1'])\n",
    "sklearn_result\n"
   ]
  },
  {
   "cell_type": "code",
   "execution_count": null,
   "id": "65696dc8",
   "metadata": {},
   "outputs": [],
   "source": [
    "sklearn_result['y-axis'] = 0.0\n",
    "sklearn_result\n",
    "\n",
    "sklearn_result['label'] = Y\n",
    "sklearn_result\n",
    "\n",
    "\n"
   ]
  },
  {
   "cell_type": "code",
   "execution_count": null,
   "id": "4adb465a",
   "metadata": {},
   "outputs": [],
   "source": [
    "sns.lmplot(\n",
    "    x='PC1',\n",
    "    y='y-axis',\n",
    "    data=sklearn_result,\n",
    "    hue='label',                 # 그룹 색상 지정\n",
    "    fit_reg=False,                # 회귀선 그리지 않음\n",
    "    scatter_kws={\"s\": 50}         # 점 크기 설정\n",
    ")"
   ]
  }
 ],
 "metadata": {
  "kernelspec": {
   "display_name": "Python 3",
   "language": "python",
   "name": "python3"
  },
  "language_info": {
   "codemirror_mode": {
    "name": "ipython",
    "version": 3
   },
   "file_extension": ".py",
   "mimetype": "text/x-python",
   "name": "python",
   "nbconvert_exporter": "python",
   "pygments_lexer": "ipython3",
   "version": "3.9.6"
  }
 },
 "nbformat": 4,
 "nbformat_minor": 5
}

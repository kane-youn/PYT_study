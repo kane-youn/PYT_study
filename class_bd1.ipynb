{
 "cells": [
  {
   "cell_type": "code",
   "execution_count": null,
   "id": "5d66b358",
   "metadata": {},
   "outputs": [],
   "source": [
    "# 파일이 없어 실행 못했음.\n",
    "\n",
    "from sklearn.linear_model import LinearRegression\n",
    "import pandas as pd\n",
    "import seaborn as sns\n",
    "import matplotlib.pyplot as plt\n"
   ]
  },
  {
   "cell_type": "code",
   "execution_count": null,
   "id": "e8ab2542",
   "metadata": {},
   "outputs": [],
   "source": [
    "# from google.colab import drive\n",
    "# drive.mount('/gdrive')\n",
    "# filename = '/gdrive/My Drive/LinearRegression.csv'\n",
    "df = pd.read_csv(filename)\n",
    "df.head()\n",
    "df.shape\n",
    "df.describe()\n",
    "\n",
    "X = df['height']\n",
    "Y = df['weight']\n"
   ]
  },
  {
   "cell_type": "code",
   "execution_count": null,
   "id": "e0b63aec",
   "metadata": {},
   "outputs": [],
   "source": [
    "lr = LinearRegression()\n",
    "lr.fit(X.values.reshape(-1,1), Y)"
   ]
  },
  {
   "cell_type": "code",
   "execution_count": null,
   "id": "0673e00f",
   "metadata": {},
   "outputs": [],
   "source": [
    "print('기울기 : ', lr.coef_)\n",
    "print('절편 : ', lr.intercept_)"
   ]
  },
  {
   "cell_type": "code",
   "execution_count": null,
   "id": "122464a2",
   "metadata": {},
   "outputs": [],
   "source": [
    "plt.plot(X, Y, 'o')\n",
    "plt.plot(X, lr.predict(X.values.reshape(-1,1)))\n",
    "plt.show()"
   ]
  },
  {
   "cell_type": "code",
   "execution_count": null,
   "id": "a0f36f60",
   "metadata": {},
   "outputs": [],
   "source": [
    "df['height'] = df['height'].astype(float)\n",
    "df['weight'] = df['weight'].astype(float)"
   ]
  },
  {
   "cell_type": "code",
   "execution_count": null,
   "id": "1d1b9890",
   "metadata": {},
   "outputs": [],
   "source": [
    "sns.Implot(x='height', y='weight', data=df,\n",
    "           line_kws={'color':'red'})"
   ]
  }
 ],
 "metadata": {
  "language_info": {
   "name": "python"
  }
 },
 "nbformat": 4,
 "nbformat_minor": 5
}

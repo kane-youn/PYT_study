{
 "cells": [
  {
   "cell_type": "code",
   "execution_count": null,
   "id": "1d2f4cf9",
   "metadata": {},
   "outputs": [],
   "source": [
    "from tensorflow.keras import optimizers\n",
    "from tensorflow.keras.models import Sequential\n",
    "from tensorflow.keras.layers import Dense\n",
    "import numpy as np\n",
    "import matplotlib.pyplot as plt\n",
    "\n",
    "# 데이터 생성\n",
    "X = np.linspace(0, 10, 100).reshape(-1, 1)  # (100,1)로 변환\n",
    "Y = X.flatten() + np.random.randn(100)      # 노이즈 추가\n"
   ]
  },
  {
   "cell_type": "code",
   "execution_count": null,
   "id": "11c5efac",
   "metadata": {},
   "outputs": [],
   "source": [
    "# 모델 생성\n",
    "model = Sequential()\n",
    "model.add(Dense(1, activation='linear', use_bias=False, input_shape=(1,)))\n"
   ]
  },
  {
   "cell_type": "code",
   "execution_count": null,
   "id": "36ef5fde",
   "metadata": {},
   "outputs": [],
   "source": [
    "# 옵티마이저 & 컴파일\n",
    "sgd = optimizers.SGD(learning_rate=0.01)\n",
    "model.compile(optimizer=sgd, loss='mse')"
   ]
  },
  {
   "cell_type": "code",
   "execution_count": null,
   "id": "8cfeb91f",
   "metadata": {},
   "outputs": [],
   "source": [
    "# 모델 학습\n",
    "model.fit(X, Y, batch_size=100, epochs=50, verbose=1)\n"
   ]
  },
  {
   "cell_type": "code",
   "execution_count": null,
   "id": "545286d3",
   "metadata": {},
   "outputs": [],
   "source": [
    "# 학습된 가중치(기울기) 가져오기\n",
    "weights = model.layers[0].get_weights()\n",
    "w = weights[0][0]\n",
    "print('기울기:', w)"
   ]
  },
  {
   "cell_type": "code",
   "execution_count": null,
   "id": "223c0e92",
   "metadata": {},
   "outputs": [],
   "source": [
    "# 예측\n",
    "y_pred = model.predict(X).flatten()"
   ]
  },
  {
   "cell_type": "code",
   "execution_count": null,
   "id": "54875436",
   "metadata": {},
   "outputs": [],
   "source": [
    "# 시각화\n",
    "\n",
    "plt.figure(figsize=(8, 5))\n",
    "plt.scatter(X, Y, label='Data', color='blue', alpha=0.6)\n",
    "plt.plot(X, y_pred, label=f'Predicted: y={w[0]:.2f}x', color='red')\n",
    "plt.xlabel('X')\n",
    "plt.ylabel('Y')\n",
    "plt.legend()\n",
    "plt.title('Linear Model Fit')\n",
    "plt.show()"
   ]
  }
 ],
 "metadata": {
  "kernelspec": {
   "display_name": "Python 3",
   "language": "python",
   "name": "python3"
  },
  "language_info": {
   "codemirror_mode": {
    "name": "ipython",
    "version": 3
   },
   "file_extension": ".py",
   "mimetype": "text/x-python",
   "name": "python",
   "nbconvert_exporter": "python",
   "pygments_lexer": "ipython3",
   "version": "3.9.6"
  }
 },
 "nbformat": 4,
 "nbformat_minor": 5
}

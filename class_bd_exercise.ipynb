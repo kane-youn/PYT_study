{
 "cells": [
  {
   "cell_type": "code",
   "execution_count": 21,
   "id": "6afe4df1",
   "metadata": {},
   "outputs": [
    {
     "name": "stdout",
     "output_type": "stream",
     "text": [
      "      name  year  score\n",
      "K     Kane   971     10\n",
      "S     Suri   984     20\n",
      "Sb   Sabin   990     30\n",
      "H   Hellen   987     40\n",
      "E     Eric   970     50\n",
      "--------------------\n",
      "Suri\n",
      "year     990\n",
      "score     30\n",
      "Name: Sb, dtype: object\n",
      "--------------------\n",
      "Kane\n",
      "name    Hellen\n",
      "Name: H, dtype: object\n",
      "      name  score\n",
      "K     Kane     10\n",
      "S     Suri     20\n",
      "Sb   Sabin     30\n",
      "H   Hellen     40\n",
      "E     Eric     50\n"
     ]
    }
   ],
   "source": [
    "\n",
    "import pandas as pd\n",
    "data = {'name':['Kane','Suri','Sabin','Hellen','Eric'],\n",
    "        'year':[971,984,990,987,970],\n",
    "        'score':[10,20,30,40,50]}\n",
    "df = pd.DataFrame(data,index=['K','S','Sb','H','E'])\n",
    "print(df)\n",
    "print('-' * 20)\n",
    "print(df.loc['S','name'])\n",
    "print(df.loc['Sb',['year','score']])\n",
    "print('-' * 20)\n",
    "print(df.iloc[0,0])\n",
    "print(df.iloc[3,:1])\n",
    "print(df.iloc[:,[0,2]])\n",
    "\n",
    "\n",
    "    \n"
   ]
  },
  {
   "cell_type": "code",
   "execution_count": 33,
   "id": "00e7462c",
   "metadata": {},
   "outputs": [
    {
     "name": "stdout",
     "output_type": "stream",
     "text": [
      "[[1 2 3]\n",
      " [4 5 6]\n",
      " [7 8 9]]\n",
      "2\n",
      "[8 9]\n",
      "[[ 1  2  3]\n",
      " [10 10 10]\n",
      " [ 7  8  9]]\n",
      "[[  1   2   3]\n",
      " [120 120 120]\n",
      " [  7   8   9]]\n",
      "[[3000 3000 3000]\n",
      " [3000 3000 3000]\n",
      " [3000 3000 3000]]\n"
     ]
    }
   ],
   "source": [
    "import numpy as np\n",
    "\n",
    "data = np.array([[1,2,3],[4,5,6],[7,8,9]])\n",
    "print(data)\n",
    "print(data [0][1])\n",
    "print(data[2][1:])\n",
    "data[1][:]=10\n",
    "print(data)\n",
    "data[:][1]=120\n",
    "print(data)\n",
    "data[:]=3000\n",
    "print(data)\n"
   ]
  },
  {
   "cell_type": "code",
   "execution_count": 39,
   "id": "69a207e8",
   "metadata": {},
   "outputs": [
    {
     "name": "stdout",
     "output_type": "stream",
     "text": [
      "[[ 5.   7.   9. ]\n",
      " [-7.  -6.  19. ]\n",
      " [ 6.   8.9 11. ]]\n",
      "[[ 3.12632979 -0.0412234  -2.48670213]\n",
      " [-2.53989362 -0.01329787  2.10106383]\n",
      " [ 0.34973404  0.03324468 -0.25265957]]\n",
      "[[ 1.00000000e+00  2.08166817e-17  8.88178420e-16]\n",
      " [-2.77555756e-16  1.00000000e+00  0.00000000e+00]\n",
      " [ 2.38697950e-15  6.24500451e-17  1.00000000e+00]]\n"
     ]
    }
   ],
   "source": [
    "import numpy as np\n",
    "dta = np.array([[5,7,9],[-7,-6,19],[6,8.9,11]])\n",
    "print(dta)\n",
    "A_inv = np.linalg.inv(dta)\n",
    "print(A_inv)\n",
    "multi = np.dot(dta,A_inv)\n",
    "print(multi)\n"
   ]
  }
 ],
 "metadata": {
  "kernelspec": {
   "display_name": "Python 3",
   "language": "python",
   "name": "python3"
  },
  "language_info": {
   "codemirror_mode": {
    "name": "ipython",
    "version": 3
   },
   "file_extension": ".py",
   "mimetype": "text/x-python",
   "name": "python",
   "nbconvert_exporter": "python",
   "pygments_lexer": "ipython3",
   "version": "3.9.6"
  }
 },
 "nbformat": 4,
 "nbformat_minor": 5
}
